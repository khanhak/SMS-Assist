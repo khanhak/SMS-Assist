{
 "cells": [
  {
   "cell_type": "code",
   "execution_count": 3,
   "metadata": {},
   "outputs": [],
   "source": [
    "import smtplib\n",
    "carriers = {\n",
    "\t'att':    '@mms.att.net',\n",
    "\t'tmobile':' @tmomail.net',\n",
    "\t'verizon':  '@vtext.com',\n",
    "\t'sprint':   '@page.nextel.com'\n",
    "}\n",
    "\n",
    "def send(message):\n",
    "        # Replace the number with your own, or consider using an argument\\dict for multiple people.\n",
    "\tto_number = '571-465-0169{}'.format(carriers['att'])\n",
    "\tauth = ('vaessayservices@gmail.com', password)\n",
    "\n",
    "\t# Establish a secure session with gmail's outgoing SMTP server using your gmail account\n",
    "\tserver = smtplib.SMTP( \"smtp.gmail.com\", 587 )\n",
    "\tserver.starttls()\n",
    "\tserver.login(auth[0], auth[1])\n",
    "\n",
    "\t# Send text message through SMS gateway of destination number\n",
    "\tserver.sendmail( auth[0], to_number, message)"
   ]
  },
  {
   "cell_type": "code",
   "execution_count": 4,
   "metadata": {},
   "outputs": [],
   "source": [
    "send(\"work\")"
   ]
  },
  {
   "cell_type": "code",
   "execution_count": null,
   "metadata": {},
   "outputs": [],
   "source": []
  }
 ],
 "metadata": {
  "kernelspec": {
   "display_name": "Python 3",
   "language": "python",
   "name": "python3"
  },
  "language_info": {
   "codemirror_mode": {
    "name": "ipython",
    "version": 3
   },
   "file_extension": ".py",
   "mimetype": "text/x-python",
   "name": "python",
   "nbconvert_exporter": "python",
   "pygments_lexer": "ipython3",
   "version": "3.7.6"
  }
 },
 "nbformat": 4,
 "nbformat_minor": 4
}
